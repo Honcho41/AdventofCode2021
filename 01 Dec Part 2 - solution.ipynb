{
 "cells": [
  {
   "cell_type": "code",
   "execution_count": 1,
   "metadata": {},
   "outputs": [
    {
     "name": "stdout",
     "output_type": "stream",
     "text": [
      "1150\n"
     ]
    }
   ],
   "source": [
    "with open(\"depth.txt\") as input:\n",
    "    depths = [int(line.strip()) for line in input]\n",
    "\n",
    "# calculate all of the three-measurement sums\n",
    "sums = []\n",
    "for i in range(len(depths)):\n",
    "    sums.append(sum(depths[i:i + 3]))\n",
    "\n",
    "# calculate how many sums are larger than the previous ones\n",
    "numOfSumsLargerThanThePreviousOne = 0\n",
    "for i in range(1, len(sums)):\n",
    "    if sums[i] > sums[i - 1]:\n",
    "        numOfSumsLargerThanThePreviousOne += 1\n",
    "\n",
    "print(numOfSumsLargerThanThePreviousOne)"
   ]
  },
  {
   "cell_type": "code",
   "execution_count": null,
   "metadata": {},
   "outputs": [],
   "source": []
  }
 ],
 "metadata": {
  "kernelspec": {
   "display_name": "Python 3",
   "language": "python",
   "name": "python3"
  },
  "language_info": {
   "codemirror_mode": {
    "name": "ipython",
    "version": 3
   },
   "file_extension": ".py",
   "mimetype": "text/x-python",
   "name": "python",
   "nbconvert_exporter": "python",
   "pygments_lexer": "ipython3",
   "version": "3.8.5"
  }
 },
 "nbformat": 4,
 "nbformat_minor": 4
}
