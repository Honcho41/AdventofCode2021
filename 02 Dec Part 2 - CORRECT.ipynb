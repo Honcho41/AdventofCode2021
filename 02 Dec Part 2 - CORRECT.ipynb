{
 "cells": [
  {
   "cell_type": "code",
   "execution_count": 5,
   "metadata": {},
   "outputs": [
    {
     "name": "stdout",
     "output_type": "stream",
     "text": [
      "2053\n",
      "1041589\n",
      "1033\n",
      "2138382217\n"
     ]
    }
   ],
   "source": [
    "instructions = open(\"02Dec.txt\", \"r\")\n",
    "\n",
    "horizontal = 0\n",
    "depth = 0\n",
    "aim = 0\n",
    "\n",
    "for line in instructions:\n",
    "    lst = line.split()\n",
    "    if lst[0] == \"forward\":\n",
    "        horizontal = horizontal + int(lst[1])\n",
    "        depth = depth + (int(lst[1]) * aim)\n",
    "        \n",
    "    elif lst[0] == \"up\":\n",
    "        aim = aim - int(lst[1])\n",
    "    elif lst[0] == \"down\":\n",
    "        aim = aim + int(lst[1])\n",
    "instructions.close()\n",
    "\n",
    "print(horizontal)\n",
    "print(depth)\n",
    "print(aim)\n",
    "\n",
    "print(horizontal * depth)"
   ]
  },
  {
   "cell_type": "code",
   "execution_count": null,
   "metadata": {},
   "outputs": [],
   "source": []
  }
 ],
 "metadata": {
  "kernelspec": {
   "display_name": "Python 3",
   "language": "python",
   "name": "python3"
  },
  "language_info": {
   "codemirror_mode": {
    "name": "ipython",
    "version": 3
   },
   "file_extension": ".py",
   "mimetype": "text/x-python",
   "name": "python",
   "nbconvert_exporter": "python",
   "pygments_lexer": "ipython3",
   "version": "3.8.5"
  }
 },
 "nbformat": 4,
 "nbformat_minor": 4
}
