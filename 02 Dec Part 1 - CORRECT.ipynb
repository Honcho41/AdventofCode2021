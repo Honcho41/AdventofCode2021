{
 "cells": [
  {
   "cell_type": "code",
   "execution_count": 60,
   "metadata": {},
   "outputs": [
    {
     "name": "stdout",
     "output_type": "stream",
     "text": [
      "2053\n",
      "1033\n",
      "2120749\n"
     ]
    }
   ],
   "source": [
    "instructions = open(\"02Dec.txt\", \"r\")\n",
    "\n",
    "horizontal = 0\n",
    "depth = 0\n",
    "\n",
    "for line in instructions:\n",
    "    lst = line.split()\n",
    "    if lst[0] == \"forward\":\n",
    "        horizontal = horizontal + int(lst[1])\n",
    "        \n",
    "    elif lst[0] == \"up\":\n",
    "        depth = depth - int(lst[1])\n",
    "    elif lst[0] == \"down\":\n",
    "        depth = depth + int(lst[1])\n",
    "instructions.close()\n",
    "\n",
    "print(horizontal)\n",
    "print(depth)\n",
    "\n",
    "print(horizontal * depth)"
   ]
  }
 ],
 "metadata": {
  "kernelspec": {
   "display_name": "Python 3",
   "language": "python",
   "name": "python3"
  },
  "language_info": {
   "codemirror_mode": {
    "name": "ipython",
    "version": 3
   },
   "file_extension": ".py",
   "mimetype": "text/x-python",
   "name": "python",
   "nbconvert_exporter": "python",
   "pygments_lexer": "ipython3",
   "version": "3.8.5"
  }
 },
 "nbformat": 4,
 "nbformat_minor": 4
}
